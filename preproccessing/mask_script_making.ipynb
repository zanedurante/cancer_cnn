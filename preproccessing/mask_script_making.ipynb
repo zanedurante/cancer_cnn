{
 "cells": [
  {
   "cell_type": "code",
   "execution_count": 3,
   "metadata": {
    "collapsed": false
   },
   "outputs": [],
   "source": [
    "%matplotlib inline\n",
    "import cv2\n",
    "import numpy as np\n",
    "from IPython.display import Image\n",
    "import matplotlib.pyplot as plt\n",
    "from scipy.ndimage.morphology import binary_fill_holes"
   ]
  },
  {
   "cell_type": "code",
   "execution_count": 6,
   "metadata": {
    "collapsed": true
   },
   "outputs": [],
   "source": [
    "def display_images(img_array):\n",
    "    \n",
    "    cmap = None\n",
    "    \n",
    "    #set up dims of subplot arrangement\n",
    "    rows = len(img_array)/3+1\n",
    "    cols = 3\n",
    "    \n",
    "    #make each image visible\n",
    "    plt.figure(figsize=(20, 20))\n",
    "    \n",
    "    #add each image to plot\n",
    "    for i, img in enumerate(img_array):\n",
    "        # use gray scale color map if there is only one channel\n",
    "        cmap = 'gray' if len(img.shape)==2 else cmap\n",
    "        \n",
    "        plt.subplot(rows, cols, i+1)\n",
    "        plt.imshow(img, cmap=cmap)\n",
    "    \n",
    "    plt.tight_layout(pad=0, h_pad=0, w_pad=0)\n",
    "    plt.show()"
   ]
  },
  {
   "cell_type": "code",
   "execution_count": 7,
   "metadata": {
    "collapsed": true
   },
   "outputs": [],
   "source": [
    "def gray_and_blur(img, k_size=13):\n",
    "    \n",
    "    #convert to grayscale\n",
    "    img = cv2.cvtColor(img, cv2.COLOR_RGB2GRAY)\n",
    "\n",
    "    #blur image\n",
    "    img = cv2.GaussianBlur(img, (k_size, k_size), 0)\n",
    "    \n",
    "    return img\n",
    "\n",
    "def pre_edge(imgs, k_size=13):\n",
    "    processed = []\n",
    "    \n",
    "    for img in imgs:\n",
    "        \n",
    "        processed.append(gray_and_blur(img, k_size))\n",
    "        \n",
    "    return processed\n",
    "\n",
    "\n",
    "def get_edges(imgs, low_t=40, high_t=120, k_size=17):\n",
    "    edged = []\n",
    "    #process images\n",
    "    processed = pre_edge(imgs, k_size=k_size)\n",
    "    \n",
    "    for img in processed:\n",
    "        edged.append(cv2.Canny(img, low_t, high_t))\n",
    "        \n",
    "    return edged"
   ]
  },
  {
   "cell_type": "code",
   "execution_count": 8,
   "metadata": {
    "collapsed": false
   },
   "outputs": [],
   "source": [
    "def find_cancer(imgs):\n",
    "    edge_imgs = get_edges(imgs)\n",
    "    \n",
    "    cntrs = []\n",
    "\n",
    "    \n",
    "    for img in edge_imgs:\n",
    "        _ , contours, hierarchy = cv2.findContours(img,cv2.RETR_TREE,cv2.CHAIN_APPROX_SIMPLE)\n",
    "        cntrs.append(contours)\n",
    "    \n",
    "    max_cntrs = []\n",
    "    \n",
    "    for img_cntrs in cntrs:\n",
    "        \n",
    "        areas = []\n",
    "        \n",
    "        for cntr in img_cntrs:\n",
    "            areas.append(cv2.contourArea(cntr))\n",
    "        \n",
    "        max_index = (areas.index(max(areas)))\n",
    "        \n",
    "        max_cntrs.append(contours[max_index])\n",
    "    \n",
    "    final_images = []\n",
    "    \n",
    "    for cnt, img in zip(max_cntrs, imgs):\n",
    "        \n",
    "        final_images.append(cv2.drawContours(img, cnt, -1, (0,255,0), 3))\n",
    "    \n",
    "    morph_imgs = []\n",
    "    \n",
    "    for img in final_images:\n",
    "\n",
    "        se = np.ones((11,11), dtype='uint8')\n",
    "        morph_imgs.append(cv2.morphologyEx(img, cv2.MORPH_CLOSE, se))\n",
    "        \n",
    "    display_images(morph_imgs)\n",
    "        \n",
    "        \n",
    "    \n",
    "    "
   ]
  },
  {
   "cell_type": "code",
   "execution_count": 9,
   "metadata": {
    "collapsed": false
   },
   "outputs": [
    {
     "data": {
      "image/png": "[encoded data removed]",
      "text/plain": [
       "<matplotlib.figure.Figure at 0x7f5c0e07c518>"
      ]
     },
     "metadata": {},
     "output_type": "display_data"
    }
   ],
   "source": [
    "img = cv2.imread('pictures/cancer.jpeg')\n",
    "find_cancer([img])"
   ]
  },
  {
   "cell_type": "code",
   "execution_count": 10,
   "metadata": {
    "collapsed": false
   },
   "outputs": [],
   "source": [
    "def get_cancer_mask(img):\n",
    "    \n",
    "    img = img.copy()\n",
    "    \n",
    "    edge = get_edges([img])[0]\n",
    "    \n",
    "    _ , contours, hierarchy = cv2.findContours(edge,cv2.RETR_TREE,cv2.CHAIN_APPROX_SIMPLE)\n",
    "    \n",
    "    areas = []\n",
    "    \n",
    "    for cntr in contours:\n",
    "        areas.append(cv2.contourArea(cntr))\n",
    "\n",
    "    max_index = (areas.index(max(areas)))\n",
    "\n",
    "    max_cntr = contours[max_index]\n",
    "    \n",
    "    img = np.ones(img.shape)\n",
    "    \n",
    "    img = cv2.drawContours(img, max_cntr, -1, (255,255,255), 3)\n",
    "    \n",
    "    se = np.ones((9,9), dtype='uint8')\n",
    "    img = cv2.morphologyEx(img, cv2.MORPH_CLOSE, se)\n",
    "    \n",
    "    img = ((img-img.min())/255).astype(bool)\n",
    "    \n",
    "    filled = binary_fill_holes(img[:,:,0].astype(bool)).reshape(img.shape[0], img.shape[1], 1)\n",
    "    \n",
    "    img = np.concatenate([filled, filled, filled], axis=2).astype(float)\n",
    "    \n",
    "    return img"
   ]
  },
  {
   "cell_type": "code",
   "execution_count": 11,
   "metadata": {
    "collapsed": false
   },
   "outputs": [
    {
     "data": {
      "image/png": "[encoded data removed]",
      "text/plain": [
       "<matplotlib.figure.Figure at 0x7f5c05804128>"
      ]
     },
     "metadata": {},
     "output_type": "display_data"
    }
   ],
   "source": [
    "img = cv2.imread('pictures/cancer.jpeg')\n",
    "img = get_cancer_mask(img)\n",
    "display_images([img])"
   ]
  },
  {
   "cell_type": "code",
   "execution_count": null,
   "metadata": {
    "collapsed": true
   },
   "outputs": [],
   "source": []
  }
 ],
 "metadata": {
  "anaconda-cloud": {},
  "kernelspec": {
   "display_name": "Python [conda root]",
   "language": "python",
   "name": "conda-root-py"
  },
  "language_info": {
   "codemirror_mode": {
    "name": "ipython",
    "version": 3
   },
   "file_extension": ".py",
   "mimetype": "text/x-python",
   "name": "python",
   "nbconvert_exporter": "python",
   "pygments_lexer": "ipython3",
   "version": "3.5.2"
  }
 },
 "nbformat": 4,
 "nbformat_minor": 1
}
